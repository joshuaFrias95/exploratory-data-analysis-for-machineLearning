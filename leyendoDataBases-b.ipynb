{
 "cells": [
  {
   "cell_type": "code",
   "execution_count": null,
   "metadata": {},
   "outputs": [],
   "source": []
  },
  {
   "attachments": {},
   "cell_type": "markdown",
   "metadata": {},
   "source": [
    "# Leyendo Bases de datos 2 (Data Lab)"
   ]
  },
  {
   "attachments": {},
   "cell_type": "markdown",
   "metadata": {},
   "source": [
    "### Instrucciones\n",
    "\n",
    "- Crear una variable `path` que contenga la ruta a baseball.db (se encuentra dentro del fichero `resources/`).\n",
    "- Crear una conexión `con` que conecte a nuestra variable path en tiempo real.\n",
    "- Crear una variable `query` que contenga una petición SQL que lea los datos de la tabla `allstarfull`.\n",
    "- Crear una variable `observations` usando el método `read_sql` de pandas.\n",
    "\n",
    "#### Opcional\n",
    "- Crear una variable `tables` que lea todos los datos de la table `sqlite_master`.\n",
    "- Imaginar que estoy interesado en crear un *Hall of fame* del Baseball y necesito unirma y analizar las tablas para evaluar el top 3 de los mejores jugadores de baseball."
   ]
  },
  {
   "cell_type": "code",
   "execution_count": 1,
   "metadata": {},
   "outputs": [],
   "source": [
    "# Imports\n",
    "import sqlite3 as sq3\n",
    "import pandas.io.sql as pds\n",
    "import pandas as pd"
   ]
  }
 ],
 "metadata": {
  "kernelspec": {
   "display_name": "Python 3",
   "language": "python",
   "name": "python3"
  },
  "language_info": {
   "codemirror_mode": {
    "name": "ipython",
    "version": 3
   },
   "file_extension": ".py",
   "mimetype": "text/x-python",
   "name": "python",
   "nbconvert_exporter": "python",
   "pygments_lexer": "ipython3",
   "version": "3.11.1"
  },
  "orig_nbformat": 4
 },
 "nbformat": 4,
 "nbformat_minor": 2
}
