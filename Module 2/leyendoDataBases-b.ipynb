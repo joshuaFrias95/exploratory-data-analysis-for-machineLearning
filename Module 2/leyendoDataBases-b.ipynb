{
 "cells": [
  {
   "cell_type": "code",
   "execution_count": null,
   "metadata": {},
   "outputs": [],
   "source": []
  },
  {
   "attachments": {},
   "cell_type": "markdown",
   "metadata": {},
   "source": [
    "# Leyendo Bases de datos 2 (Data Lab)"
   ]
  },
  {
   "attachments": {},
   "cell_type": "markdown",
   "metadata": {},
   "source": [
    "# Instrucciones\n",
    "\n",
    "- Crear una variable `path` que contenga la ruta a `baseball.db` dentro de la carpeta `data`.\n",
    "- Crear una conexión `con` que conecte a nuestra variable path en tiempo real.\n",
    "- Crear una variable `query` que contenga una petición SQL que lea los datos de la tabla `allstarfull`.\n",
    "- Crear una variable `observations` usando el método `read_sql` de pandas.\n",
    "\n",
    "#### Opcional\n",
    "- Crear una variable `tables` que lea todos los datos de la table `sqlite_master`.\n",
    "- Imaginar que estoy interesado en crear un *Hall of fame* del Baseball y necesito unirma y analizar las tablas para evaluar el top 3 de los mejores jugadores de baseball."
   ]
  },
  {
   "attachments": {},
   "cell_type": "markdown",
   "metadata": {},
   "source": [
    "## Ejercicio"
   ]
  },
  {
   "cell_type": "code",
   "execution_count": 12,
   "metadata": {},
   "outputs": [],
   "source": [
    "# Imports\n",
    "import sqlite3 as sq3\n",
    "import pandas.io.sql as pds\n",
    "import pandas as pd"
   ]
  },
  {
   "cell_type": "code",
   "execution_count": 13,
   "metadata": {},
   "outputs": [],
   "source": [
    "# Creamos la variable path que contenga la ruta de baseball.db\n",
    "path = 'data/baseball.db'"
   ]
  },
  {
   "cell_type": "code",
   "execution_count": 14,
   "metadata": {},
   "outputs": [],
   "source": [
    "# Creamos una conexión \"con\" que nos permita acceder en tiempo real a la base de datos\n",
    "con = sq3.Connection(path)"
   ]
  },
  {
   "cell_type": "code",
   "execution_count": 15,
   "metadata": {},
   "outputs": [],
   "source": [
    "# Creamos la variable query que contenga las peticiones SQL que lea todos los datos de una tabla\n",
    "\n",
    "query = \"\"\"\n",
    "SELECT *\n",
    "    FROM allstarfull\n",
    "    ;\n",
    "\"\"\"\n",
    "\n",
    "allstar_observations = pd.read_sql(query, con)"
   ]
  },
  {
   "cell_type": "code",
   "execution_count": 16,
   "metadata": {},
   "outputs": [
    {
     "data": {
      "text/html": [
       "<div>\n",
       "<style scoped>\n",
       "    .dataframe tbody tr th:only-of-type {\n",
       "        vertical-align: middle;\n",
       "    }\n",
       "\n",
       "    .dataframe tbody tr th {\n",
       "        vertical-align: top;\n",
       "    }\n",
       "\n",
       "    .dataframe thead th {\n",
       "        text-align: right;\n",
       "    }\n",
       "</style>\n",
       "<table border=\"1\" class=\"dataframe\">\n",
       "  <thead>\n",
       "    <tr style=\"text-align: right;\">\n",
       "      <th></th>\n",
       "      <th>type</th>\n",
       "      <th>name</th>\n",
       "      <th>tbl_name</th>\n",
       "      <th>rootpage</th>\n",
       "      <th>sql</th>\n",
       "    </tr>\n",
       "  </thead>\n",
       "  <tbody>\n",
       "    <tr>\n",
       "      <th>0</th>\n",
       "      <td>table</td>\n",
       "      <td>allstarfull</td>\n",
       "      <td>allstarfull</td>\n",
       "      <td>2</td>\n",
       "      <td>CREATE TABLE \"allstarfull\" (\\n\"index\" INTEGER,...</td>\n",
       "    </tr>\n",
       "    <tr>\n",
       "      <th>1</th>\n",
       "      <td>index</td>\n",
       "      <td>ix_allstarfull_index</td>\n",
       "      <td>allstarfull</td>\n",
       "      <td>3</td>\n",
       "      <td>CREATE INDEX \"ix_allstarfull_index\"ON \"allstar...</td>\n",
       "    </tr>\n",
       "    <tr>\n",
       "      <th>2</th>\n",
       "      <td>table</td>\n",
       "      <td>schools</td>\n",
       "      <td>schools</td>\n",
       "      <td>26</td>\n",
       "      <td>CREATE TABLE \"schools\" (\\n\"index\" INTEGER,\\n  ...</td>\n",
       "    </tr>\n",
       "    <tr>\n",
       "      <th>3</th>\n",
       "      <td>index</td>\n",
       "      <td>ix_schools_index</td>\n",
       "      <td>schools</td>\n",
       "      <td>31</td>\n",
       "      <td>CREATE INDEX \"ix_schools_index\"ON \"schools\" (\"...</td>\n",
       "    </tr>\n",
       "    <tr>\n",
       "      <th>4</th>\n",
       "      <td>table</td>\n",
       "      <td>batting</td>\n",
       "      <td>batting</td>\n",
       "      <td>99</td>\n",
       "      <td>CREATE TABLE \"batting\" (\\n\"index\" INTEGER,\\n  ...</td>\n",
       "    </tr>\n",
       "    <tr>\n",
       "      <th>5</th>\n",
       "      <td>index</td>\n",
       "      <td>ix_batting_index</td>\n",
       "      <td>batting</td>\n",
       "      <td>100</td>\n",
       "      <td>CREATE INDEX \"ix_batting_index\"ON \"batting\" (\"...</td>\n",
       "    </tr>\n",
       "  </tbody>\n",
       "</table>\n",
       "</div>"
      ],
      "text/plain": [
       "    type                  name     tbl_name  rootpage   \n",
       "0  table           allstarfull  allstarfull         2  \\\n",
       "1  index  ix_allstarfull_index  allstarfull         3   \n",
       "2  table               schools      schools        26   \n",
       "3  index      ix_schools_index      schools        31   \n",
       "4  table               batting      batting        99   \n",
       "5  index      ix_batting_index      batting       100   \n",
       "\n",
       "                                                 sql  \n",
       "0  CREATE TABLE \"allstarfull\" (\\n\"index\" INTEGER,...  \n",
       "1  CREATE INDEX \"ix_allstarfull_index\"ON \"allstar...  \n",
       "2  CREATE TABLE \"schools\" (\\n\"index\" INTEGER,\\n  ...  \n",
       "3  CREATE INDEX \"ix_schools_index\"ON \"schools\" (\"...  \n",
       "4  CREATE TABLE \"batting\" (\\n\"index\" INTEGER,\\n  ...  \n",
       "5  CREATE INDEX \"ix_batting_index\"ON \"batting\" (\"...  "
      ]
     },
     "metadata": {},
     "output_type": "display_data"
    }
   ],
   "source": [
    "# Imprimimos nuestros datos\n",
    "all_tables = pd.read_sql('SELECT * FROM sqlite_master', con)\n",
    "display(all_tables)"
   ]
  },
  {
   "attachments": {},
   "cell_type": "markdown",
   "metadata": {},
   "source": [
    "# OPCIONAL"
   ]
  },
  {
   "attachments": {},
   "cell_type": "markdown",
   "metadata": {},
   "source": [
    "Imprimir y analizar las tablas para evaluar el top 3 de mejores jugadores"
   ]
  },
  {
   "cell_type": "code",
   "execution_count": 19,
   "metadata": {},
   "outputs": [
    {
     "data": {
      "text/html": [
       "<div>\n",
       "<style scoped>\n",
       "    .dataframe tbody tr th:only-of-type {\n",
       "        vertical-align: middle;\n",
       "    }\n",
       "\n",
       "    .dataframe tbody tr th {\n",
       "        vertical-align: top;\n",
       "    }\n",
       "\n",
       "    .dataframe thead th {\n",
       "        text-align: right;\n",
       "    }\n",
       "</style>\n",
       "<table border=\"1\" class=\"dataframe\">\n",
       "  <thead>\n",
       "    <tr style=\"text-align: right;\">\n",
       "      <th></th>\n",
       "      <th>playerID</th>\n",
       "      <th>num_games_played</th>\n",
       "      <th>avg_starting_position</th>\n",
       "    </tr>\n",
       "  </thead>\n",
       "  <tbody>\n",
       "    <tr>\n",
       "      <th>0</th>\n",
       "      <td>musiast01</td>\n",
       "      <td>24.0</td>\n",
       "      <td>6.357143</td>\n",
       "    </tr>\n",
       "    <tr>\n",
       "      <th>1</th>\n",
       "      <td>mayswi01</td>\n",
       "      <td>24.0</td>\n",
       "      <td>8.000000</td>\n",
       "    </tr>\n",
       "    <tr>\n",
       "      <th>2</th>\n",
       "      <td>aaronha01</td>\n",
       "      <td>24.0</td>\n",
       "      <td>8.470588</td>\n",
       "    </tr>\n",
       "  </tbody>\n",
       "</table>\n",
       "</div>"
      ],
      "text/plain": [
       "    playerID  num_games_played  avg_starting_position\n",
       "0  musiast01              24.0               6.357143\n",
       "1   mayswi01              24.0               8.000000\n",
       "2  aaronha01              24.0               8.470588"
      ]
     },
     "metadata": {},
     "output_type": "display_data"
    }
   ],
   "source": [
    "best_query = \"\"\"\n",
    "SELECT playerID, sum(GP) AS num_games_played, AVG(startingPos) AS avg_starting_position\n",
    "    FROM allstarfull\n",
    "    GROUP BY playerID\n",
    "    ORDER BY num_games_played DESC, avg_starting_position ASC\n",
    "    LIMIT 3\n",
    "\"\"\"\n",
    "\n",
    "best = pd.read_sql(best_query, con)\n",
    "display(best.head())"
   ]
  }
 ],
 "metadata": {
  "kernelspec": {
   "display_name": "Python 3",
   "language": "python",
   "name": "python3"
  },
  "language_info": {
   "codemirror_mode": {
    "name": "ipython",
    "version": 3
   },
   "file_extension": ".py",
   "mimetype": "text/x-python",
   "name": "python",
   "nbconvert_exporter": "python",
   "pygments_lexer": "ipython3",
   "version": "3.11.1"
  },
  "orig_nbformat": 4
 },
 "nbformat": 4,
 "nbformat_minor": 2
}
