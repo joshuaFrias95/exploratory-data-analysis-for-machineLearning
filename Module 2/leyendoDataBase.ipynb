{
 "cells": [
  {
   "attachments": {},
   "cell_type": "markdown",
   "metadata": {},
   "source": [
    "Ejemplo de lectura de bases de datos sql con pandas"
   ]
  },
  {
   "attachments": {},
   "cell_type": "markdown",
   "metadata": {},
   "source": [
    "# Importamos las librerias necesarias e instalamos la base de datos en la nube"
   ]
  },
  {
   "cell_type": "code",
   "execution_count": 1,
   "metadata": {},
   "outputs": [],
   "source": [
    "# Imports necesarios\n",
    "\n",
    "import sqlite3 as sq3\n",
    "import pandas.io.sql as pds\n",
    "import pandas as pd"
   ]
  },
  {
   "attachments": {},
   "cell_type": "markdown",
   "metadata": {},
   "source": [
    "Descargamos la base de datos almacenada en la nube con *wget*.\n",
    "\n",
    "wget es una herramienta que nos va a permitir descargar contenido a partir de servidores web. Utilizamos la flag -P para indicar que es una URL preferente."
   ]
  },
  {
   "cell_type": "code",
   "execution_count": 2,
   "metadata": {},
   "outputs": [
    {
     "name": "stdout",
     "output_type": "stream",
     "text": [
      "--2023-05-12 00:52:28--  https://cf-courses-data.s3.us.cloud-object-storage.appdomain.cloud/IBM-ML0232EN-SkillsNetwork/asset/classic_rock.db\n",
      "Resolving cf-courses-data.s3.us.cloud-object-storage.appdomain.cloud (cf-courses-data.s3.us.cloud-object-storage.appdomain.cloud)... 198.23.119.245\n",
      "Connecting to cf-courses-data.s3.us.cloud-object-storage.appdomain.cloud (cf-courses-data.s3.us.cloud-object-storage.appdomain.cloud)|198.23.119.245|:443... connected.\n",
      "HTTP request sent, awaiting response... 200 OK\n",
      "Length: 5652480 (5.4M) [binary/octet-stream]\n",
      "Saving to: ‘data/classic_rock.db.2’\n",
      "\n",
      "classic_rock.db.2   100%[===================>]   5.39M   503KB/s    in 10s     \n",
      "\n",
      "2023-05-12 00:52:39 (550 KB/s) - ‘data/classic_rock.db.2’ saved [5652480/5652480]\n",
      "\n"
     ]
    }
   ],
   "source": [
    "!wget -P data https://cf-courses-data.s3.us.cloud-object-storage.appdomain.cloud/IBM-ML0232EN-SkillsNetwork/asset/classic_rock.db"
   ]
  },
  {
   "attachments": {},
   "cell_type": "markdown",
   "metadata": {},
   "source": [
    "Inicializamos la variable `path` con nuestro archivo *classic_rock.db* recién descargado.\n",
    "La variable `con` nos permite tener una conexión en vivo con la base de datos al encapsular el método `sq3.Connection(path)`"
   ]
  },
  {
   "cell_type": "code",
   "execution_count": 3,
   "metadata": {},
   "outputs": [],
   "source": [
    "path = 'data/classic_rock.db'\n",
    "con = sq3.Connection(path)"
   ]
  },
  {
   "attachments": {},
   "cell_type": "markdown",
   "metadata": {},
   "source": [
    "Llamamos nuestra conexión en tiempo real (variable con)"
   ]
  },
  {
   "cell_type": "code",
   "execution_count": 4,
   "metadata": {},
   "outputs": [
    {
     "data": {
      "text/plain": [
       "<sqlite3.Connection at 0x7fe2563f7010>"
      ]
     },
     "execution_count": 4,
     "metadata": {},
     "output_type": "execute_result"
    }
   ],
   "source": [
    "con"
   ]
  },
  {
   "attachments": {},
   "cell_type": "markdown",
   "metadata": {},
   "source": [
    "# Leemos la base de datos"
   ]
  },
  {
   "attachments": {},
   "cell_type": "markdown",
   "metadata": {},
   "source": [
    "- Declaramos la consulta de datos dentro de comillas simples.\n",
    "- Usamos `SELECT *` para indicarle que seleccione todos los datos.\n",
    "- Usamos `FROM` para indicarle el origen de los datos."
   ]
  },
  {
   "cell_type": "code",
   "execution_count": 5,
   "metadata": {},
   "outputs": [],
   "source": [
    "query = '''\n",
    "SELECT *    \n",
    "FROM rock_songs\n",
    "'''"
   ]
  },
  {
   "attachments": {},
   "cell_type": "markdown",
   "metadata": {},
   "source": [
    "Ejecutamos nuestra consulta almacenada en query y encapsulada en observations.\n",
    "\n",
    "El método `observations.head` nos arroja una tabla con cinco elementos que indican canción, artista, año de lanzamiento y conteo de reproducciones"
   ]
  },
  {
   "cell_type": "code",
   "execution_count": 6,
   "metadata": {},
   "outputs": [
    {
     "data": {
      "text/html": [
       "<div>\n",
       "<style scoped>\n",
       "    .dataframe tbody tr th:only-of-type {\n",
       "        vertical-align: middle;\n",
       "    }\n",
       "\n",
       "    .dataframe tbody tr th {\n",
       "        vertical-align: top;\n",
       "    }\n",
       "\n",
       "    .dataframe thead th {\n",
       "        text-align: right;\n",
       "    }\n",
       "</style>\n",
       "<table border=\"1\" class=\"dataframe\">\n",
       "  <thead>\n",
       "    <tr style=\"text-align: right;\">\n",
       "      <th></th>\n",
       "      <th>Song</th>\n",
       "      <th>Artist</th>\n",
       "      <th>Release_Year</th>\n",
       "      <th>PlayCount</th>\n",
       "    </tr>\n",
       "  </thead>\n",
       "  <tbody>\n",
       "    <tr>\n",
       "      <th>0</th>\n",
       "      <td>Caught Up in You</td>\n",
       "      <td>.38 Special</td>\n",
       "      <td>1982.0</td>\n",
       "      <td>82</td>\n",
       "    </tr>\n",
       "    <tr>\n",
       "      <th>1</th>\n",
       "      <td>Hold On Loosely</td>\n",
       "      <td>.38 Special</td>\n",
       "      <td>1981.0</td>\n",
       "      <td>85</td>\n",
       "    </tr>\n",
       "    <tr>\n",
       "      <th>2</th>\n",
       "      <td>Rockin' Into the Night</td>\n",
       "      <td>.38 Special</td>\n",
       "      <td>1980.0</td>\n",
       "      <td>18</td>\n",
       "    </tr>\n",
       "    <tr>\n",
       "      <th>3</th>\n",
       "      <td>Art For Arts Sake</td>\n",
       "      <td>10cc</td>\n",
       "      <td>1975.0</td>\n",
       "      <td>1</td>\n",
       "    </tr>\n",
       "    <tr>\n",
       "      <th>4</th>\n",
       "      <td>Kryptonite</td>\n",
       "      <td>3 Doors Down</td>\n",
       "      <td>2000.0</td>\n",
       "      <td>13</td>\n",
       "    </tr>\n",
       "  </tbody>\n",
       "</table>\n",
       "</div>"
      ],
      "text/plain": [
       "                     Song        Artist  Release_Year  PlayCount\n",
       "0        Caught Up in You   .38 Special        1982.0         82\n",
       "1         Hold On Loosely   .38 Special        1981.0         85\n",
       "2  Rockin' Into the Night   .38 Special        1980.0         18\n",
       "3       Art For Arts Sake          10cc        1975.0          1\n",
       "4              Kryptonite  3 Doors Down        2000.0         13"
      ]
     },
     "execution_count": 6,
     "metadata": {},
     "output_type": "execute_result"
    }
   ],
   "source": [
    "observations = pds.read_sql(query, con)\n",
    "observations.head()"
   ]
  },
  {
   "attachments": {},
   "cell_type": "markdown",
   "metadata": {},
   "source": [
    "Generamos una solicitud que seleccione los datos de artista, año de lanzamiento, número de canciones y promedio de reproducciones. Además, los categorizamos de forma descendente a partir del número de canciones"
   ]
  },
  {
   "cell_type": "code",
   "execution_count": 7,
   "metadata": {},
   "outputs": [
    {
     "data": {
      "text/html": [
       "<div>\n",
       "<style scoped>\n",
       "    .dataframe tbody tr th:only-of-type {\n",
       "        vertical-align: middle;\n",
       "    }\n",
       "\n",
       "    .dataframe tbody tr th {\n",
       "        vertical-align: top;\n",
       "    }\n",
       "\n",
       "    .dataframe thead th {\n",
       "        text-align: right;\n",
       "    }\n",
       "</style>\n",
       "<table border=\"1\" class=\"dataframe\">\n",
       "  <thead>\n",
       "    <tr style=\"text-align: right;\">\n",
       "      <th></th>\n",
       "      <th>Artist</th>\n",
       "      <th>Release_Year</th>\n",
       "      <th>num_songs</th>\n",
       "      <th>avg_plays</th>\n",
       "    </tr>\n",
       "  </thead>\n",
       "  <tbody>\n",
       "    <tr>\n",
       "      <th>0</th>\n",
       "      <td>The Beatles</td>\n",
       "      <td>1967.0</td>\n",
       "      <td>23</td>\n",
       "      <td>6.565217</td>\n",
       "    </tr>\n",
       "    <tr>\n",
       "      <th>1</th>\n",
       "      <td>Led Zeppelin</td>\n",
       "      <td>1969.0</td>\n",
       "      <td>18</td>\n",
       "      <td>21.000000</td>\n",
       "    </tr>\n",
       "    <tr>\n",
       "      <th>2</th>\n",
       "      <td>The Beatles</td>\n",
       "      <td>1965.0</td>\n",
       "      <td>15</td>\n",
       "      <td>3.800000</td>\n",
       "    </tr>\n",
       "    <tr>\n",
       "      <th>3</th>\n",
       "      <td>The Beatles</td>\n",
       "      <td>1968.0</td>\n",
       "      <td>13</td>\n",
       "      <td>13.000000</td>\n",
       "    </tr>\n",
       "    <tr>\n",
       "      <th>4</th>\n",
       "      <td>The Beatles</td>\n",
       "      <td>1969.0</td>\n",
       "      <td>13</td>\n",
       "      <td>15.000000</td>\n",
       "    </tr>\n",
       "  </tbody>\n",
       "</table>\n",
       "</div>"
      ],
      "text/plain": [
       "         Artist  Release_Year  num_songs  avg_plays\n",
       "0   The Beatles        1967.0         23   6.565217\n",
       "1  Led Zeppelin        1969.0         18  21.000000\n",
       "2   The Beatles        1965.0         15   3.800000\n",
       "3   The Beatles        1968.0         13  13.000000\n",
       "4   The Beatles        1969.0         13  15.000000"
      ]
     },
     "execution_count": 7,
     "metadata": {},
     "output_type": "execute_result"
    }
   ],
   "source": [
    "query = '''\n",
    "SELECT Artist, Release_Year, Count(*) AS num_songs, AVG(PlayCount) AS avg_plays\n",
    "    FROM rock_songs\n",
    "    GROUP BY Artist, Release_Year\n",
    "    ORDER BY num_songs desc;\n",
    "'''\n",
    "\n",
    "# Ejecutamos\n",
    "observations = pds.read_sql(query,con)\n",
    "observations.head()"
   ]
  },
  {
   "attachments": {},
   "cell_type": "markdown",
   "metadata": {},
   "source": [
    "# Parametros comunes\n",
    "\n",
    "Existe una gran variedad de parametros comunes que pueden ser utilizados para leer bases de datos en SQL con formatos específicos:\n",
    "\n",
    "- ***coerce_float***: fuerza a los números a volverse decimales\n",
    "- ***parse_dates***: Modifica el formato de una columna de datos a formato de fecha\n",
    "- ***chunksize***: Número de columnas que se incluiran en cada lote de información"
   ]
  },
  {
   "cell_type": "code",
   "execution_count": 8,
   "metadata": {},
   "outputs": [
    {
     "name": "stdout",
     "output_type": "stream",
     "text": [
      "Observations index: 0\n"
     ]
    },
    {
     "data": {
      "text/html": [
       "<div>\n",
       "<style scoped>\n",
       "    .dataframe tbody tr th:only-of-type {\n",
       "        vertical-align: middle;\n",
       "    }\n",
       "\n",
       "    .dataframe tbody tr th {\n",
       "        vertical-align: top;\n",
       "    }\n",
       "\n",
       "    .dataframe thead th {\n",
       "        text-align: right;\n",
       "    }\n",
       "</style>\n",
       "<table border=\"1\" class=\"dataframe\">\n",
       "  <thead>\n",
       "    <tr style=\"text-align: right;\">\n",
       "      <th></th>\n",
       "      <th>Artist</th>\n",
       "      <th>Release_Year</th>\n",
       "      <th>num_songs</th>\n",
       "      <th>avg_plays</th>\n",
       "    </tr>\n",
       "  </thead>\n",
       "  <tbody>\n",
       "    <tr>\n",
       "      <th>0</th>\n",
       "      <td>The Beatles</td>\n",
       "      <td>1970-01-01 00:32:47</td>\n",
       "      <td>23</td>\n",
       "      <td>6.565217</td>\n",
       "    </tr>\n",
       "    <tr>\n",
       "      <th>1</th>\n",
       "      <td>Led Zeppelin</td>\n",
       "      <td>1970-01-01 00:32:49</td>\n",
       "      <td>18</td>\n",
       "      <td>21.000000</td>\n",
       "    </tr>\n",
       "    <tr>\n",
       "      <th>2</th>\n",
       "      <td>The Beatles</td>\n",
       "      <td>1970-01-01 00:32:45</td>\n",
       "      <td>15</td>\n",
       "      <td>3.800000</td>\n",
       "    </tr>\n",
       "    <tr>\n",
       "      <th>3</th>\n",
       "      <td>The Beatles</td>\n",
       "      <td>1970-01-01 00:32:48</td>\n",
       "      <td>13</td>\n",
       "      <td>13.000000</td>\n",
       "    </tr>\n",
       "    <tr>\n",
       "      <th>4</th>\n",
       "      <td>The Beatles</td>\n",
       "      <td>1970-01-01 00:32:49</td>\n",
       "      <td>13</td>\n",
       "      <td>15.000000</td>\n",
       "    </tr>\n",
       "  </tbody>\n",
       "</table>\n",
       "</div>"
      ],
      "text/plain": [
       "         Artist        Release_Year  num_songs  avg_plays\n",
       "0   The Beatles 1970-01-01 00:32:47         23   6.565217\n",
       "1  Led Zeppelin 1970-01-01 00:32:49         18  21.000000\n",
       "2   The Beatles 1970-01-01 00:32:45         15   3.800000\n",
       "3   The Beatles 1970-01-01 00:32:48         13  13.000000\n",
       "4   The Beatles 1970-01-01 00:32:49         13  15.000000"
      ]
     },
     "metadata": {},
     "output_type": "display_data"
    },
    {
     "name": "stdout",
     "output_type": "stream",
     "text": [
      "Observations index: 1\n"
     ]
    },
    {
     "data": {
      "text/html": [
       "<div>\n",
       "<style scoped>\n",
       "    .dataframe tbody tr th:only-of-type {\n",
       "        vertical-align: middle;\n",
       "    }\n",
       "\n",
       "    .dataframe tbody tr th {\n",
       "        vertical-align: top;\n",
       "    }\n",
       "\n",
       "    .dataframe thead th {\n",
       "        text-align: right;\n",
       "    }\n",
       "</style>\n",
       "<table border=\"1\" class=\"dataframe\">\n",
       "  <thead>\n",
       "    <tr style=\"text-align: right;\">\n",
       "      <th></th>\n",
       "      <th>Artist</th>\n",
       "      <th>Release_Year</th>\n",
       "      <th>num_songs</th>\n",
       "      <th>avg_plays</th>\n",
       "    </tr>\n",
       "  </thead>\n",
       "  <tbody>\n",
       "    <tr>\n",
       "      <th>0</th>\n",
       "      <td>Led Zeppelin</td>\n",
       "      <td>1970-01-01 00:32:50</td>\n",
       "      <td>12</td>\n",
       "      <td>13.166667</td>\n",
       "    </tr>\n",
       "    <tr>\n",
       "      <th>1</th>\n",
       "      <td>Led Zeppelin</td>\n",
       "      <td>1970-01-01 00:32:55</td>\n",
       "      <td>12</td>\n",
       "      <td>14.166667</td>\n",
       "    </tr>\n",
       "    <tr>\n",
       "      <th>2</th>\n",
       "      <td>Pink Floyd</td>\n",
       "      <td>1970-01-01 00:32:59</td>\n",
       "      <td>11</td>\n",
       "      <td>41.454545</td>\n",
       "    </tr>\n",
       "    <tr>\n",
       "      <th>3</th>\n",
       "      <td>Pink Floyd</td>\n",
       "      <td>1970-01-01 00:32:53</td>\n",
       "      <td>10</td>\n",
       "      <td>29.100000</td>\n",
       "    </tr>\n",
       "    <tr>\n",
       "      <th>4</th>\n",
       "      <td>The Doors</td>\n",
       "      <td>1970-01-01 00:32:47</td>\n",
       "      <td>10</td>\n",
       "      <td>28.900000</td>\n",
       "    </tr>\n",
       "  </tbody>\n",
       "</table>\n",
       "</div>"
      ],
      "text/plain": [
       "         Artist        Release_Year  num_songs  avg_plays\n",
       "0  Led Zeppelin 1970-01-01 00:32:50         12  13.166667\n",
       "1  Led Zeppelin 1970-01-01 00:32:55         12  14.166667\n",
       "2    Pink Floyd 1970-01-01 00:32:59         11  41.454545\n",
       "3    Pink Floyd 1970-01-01 00:32:53         10  29.100000\n",
       "4     The Doors 1970-01-01 00:32:47         10  28.900000"
      ]
     },
     "metadata": {},
     "output_type": "display_data"
    },
    {
     "name": "stdout",
     "output_type": "stream",
     "text": [
      "Observations index: 2\n"
     ]
    },
    {
     "data": {
      "text/html": [
       "<div>\n",
       "<style scoped>\n",
       "    .dataframe tbody tr th:only-of-type {\n",
       "        vertical-align: middle;\n",
       "    }\n",
       "\n",
       "    .dataframe tbody tr th {\n",
       "        vertical-align: top;\n",
       "    }\n",
       "\n",
       "    .dataframe thead th {\n",
       "        text-align: right;\n",
       "    }\n",
       "</style>\n",
       "<table border=\"1\" class=\"dataframe\">\n",
       "  <thead>\n",
       "    <tr style=\"text-align: right;\">\n",
       "      <th></th>\n",
       "      <th>Artist</th>\n",
       "      <th>Release_Year</th>\n",
       "      <th>num_songs</th>\n",
       "      <th>avg_plays</th>\n",
       "    </tr>\n",
       "  </thead>\n",
       "  <tbody>\n",
       "    <tr>\n",
       "      <th>0</th>\n",
       "      <td>Fleetwood Mac</td>\n",
       "      <td>1970-01-01 00:32:57</td>\n",
       "      <td>9</td>\n",
       "      <td>35.666667</td>\n",
       "    </tr>\n",
       "    <tr>\n",
       "      <th>1</th>\n",
       "      <td>Jimi Hendrix</td>\n",
       "      <td>1970-01-01 00:32:47</td>\n",
       "      <td>9</td>\n",
       "      <td>24.888889</td>\n",
       "    </tr>\n",
       "    <tr>\n",
       "      <th>2</th>\n",
       "      <td>The Beatles</td>\n",
       "      <td>1970-01-01 00:32:43</td>\n",
       "      <td>9</td>\n",
       "      <td>2.444444</td>\n",
       "    </tr>\n",
       "    <tr>\n",
       "      <th>3</th>\n",
       "      <td>The Beatles</td>\n",
       "      <td>1970-01-01 00:32:44</td>\n",
       "      <td>9</td>\n",
       "      <td>3.111111</td>\n",
       "    </tr>\n",
       "    <tr>\n",
       "      <th>4</th>\n",
       "      <td>Elton John</td>\n",
       "      <td>1970-01-01 00:32:53</td>\n",
       "      <td>8</td>\n",
       "      <td>18.500000</td>\n",
       "    </tr>\n",
       "  </tbody>\n",
       "</table>\n",
       "</div>"
      ],
      "text/plain": [
       "          Artist        Release_Year  num_songs  avg_plays\n",
       "0  Fleetwood Mac 1970-01-01 00:32:57          9  35.666667\n",
       "1   Jimi Hendrix 1970-01-01 00:32:47          9  24.888889\n",
       "2    The Beatles 1970-01-01 00:32:43          9   2.444444\n",
       "3    The Beatles 1970-01-01 00:32:44          9   3.111111\n",
       "4     Elton John 1970-01-01 00:32:53          8  18.500000"
      ]
     },
     "metadata": {},
     "output_type": "display_data"
    },
    {
     "name": "stdout",
     "output_type": "stream",
     "text": [
      "Observations index: 3\n"
     ]
    },
    {
     "data": {
      "text/html": [
       "<div>\n",
       "<style scoped>\n",
       "    .dataframe tbody tr th:only-of-type {\n",
       "        vertical-align: middle;\n",
       "    }\n",
       "\n",
       "    .dataframe tbody tr th {\n",
       "        vertical-align: top;\n",
       "    }\n",
       "\n",
       "    .dataframe thead th {\n",
       "        text-align: right;\n",
       "    }\n",
       "</style>\n",
       "<table border=\"1\" class=\"dataframe\">\n",
       "  <thead>\n",
       "    <tr style=\"text-align: right;\">\n",
       "      <th></th>\n",
       "      <th>Artist</th>\n",
       "      <th>Release_Year</th>\n",
       "      <th>num_songs</th>\n",
       "      <th>avg_plays</th>\n",
       "    </tr>\n",
       "  </thead>\n",
       "  <tbody>\n",
       "    <tr>\n",
       "      <th>0</th>\n",
       "      <td>Led Zeppelin</td>\n",
       "      <td>1970-01-01 00:32:51</td>\n",
       "      <td>8</td>\n",
       "      <td>47.750000</td>\n",
       "    </tr>\n",
       "    <tr>\n",
       "      <th>1</th>\n",
       "      <td>Led Zeppelin</td>\n",
       "      <td>1970-01-01 00:32:53</td>\n",
       "      <td>8</td>\n",
       "      <td>34.125000</td>\n",
       "    </tr>\n",
       "    <tr>\n",
       "      <th>2</th>\n",
       "      <td>Boston</td>\n",
       "      <td>1970-01-01 00:32:56</td>\n",
       "      <td>7</td>\n",
       "      <td>69.285714</td>\n",
       "    </tr>\n",
       "    <tr>\n",
       "      <th>3</th>\n",
       "      <td>Rolling Stones</td>\n",
       "      <td>1970-01-01 00:32:49</td>\n",
       "      <td>7</td>\n",
       "      <td>36.142857</td>\n",
       "    </tr>\n",
       "    <tr>\n",
       "      <th>4</th>\n",
       "      <td>Van Halen</td>\n",
       "      <td>1970-01-01 00:32:58</td>\n",
       "      <td>7</td>\n",
       "      <td>51.142857</td>\n",
       "    </tr>\n",
       "  </tbody>\n",
       "</table>\n",
       "</div>"
      ],
      "text/plain": [
       "           Artist        Release_Year  num_songs  avg_plays\n",
       "0    Led Zeppelin 1970-01-01 00:32:51          8  47.750000\n",
       "1    Led Zeppelin 1970-01-01 00:32:53          8  34.125000\n",
       "2          Boston 1970-01-01 00:32:56          7  69.285714\n",
       "3  Rolling Stones 1970-01-01 00:32:49          7  36.142857\n",
       "4       Van Halen 1970-01-01 00:32:58          7  51.142857"
      ]
     },
     "metadata": {},
     "output_type": "display_data"
    },
    {
     "name": "stdout",
     "output_type": "stream",
     "text": [
      "Observations index: 4\n"
     ]
    },
    {
     "data": {
      "text/html": [
       "<div>\n",
       "<style scoped>\n",
       "    .dataframe tbody tr th:only-of-type {\n",
       "        vertical-align: middle;\n",
       "    }\n",
       "\n",
       "    .dataframe tbody tr th {\n",
       "        vertical-align: top;\n",
       "    }\n",
       "\n",
       "    .dataframe thead th {\n",
       "        text-align: right;\n",
       "    }\n",
       "</style>\n",
       "<table border=\"1\" class=\"dataframe\">\n",
       "  <thead>\n",
       "    <tr style=\"text-align: right;\">\n",
       "      <th></th>\n",
       "      <th>Artist</th>\n",
       "      <th>Release_Year</th>\n",
       "      <th>num_songs</th>\n",
       "      <th>avg_plays</th>\n",
       "    </tr>\n",
       "  </thead>\n",
       "  <tbody>\n",
       "    <tr>\n",
       "      <th>0</th>\n",
       "      <td>Bruce Springsteen</td>\n",
       "      <td>1970-01-01 00:32:55</td>\n",
       "      <td>6</td>\n",
       "      <td>7.666667</td>\n",
       "    </tr>\n",
       "    <tr>\n",
       "      <th>1</th>\n",
       "      <td>Bruce Springsteen</td>\n",
       "      <td>1970-01-01 00:33:04</td>\n",
       "      <td>6</td>\n",
       "      <td>11.500000</td>\n",
       "    </tr>\n",
       "    <tr>\n",
       "      <th>2</th>\n",
       "      <td>Creedence Clearwater Revival</td>\n",
       "      <td>1970-01-01 00:32:49</td>\n",
       "      <td>6</td>\n",
       "      <td>23.833333</td>\n",
       "    </tr>\n",
       "    <tr>\n",
       "      <th>3</th>\n",
       "      <td>Creedence Clearwater Revival</td>\n",
       "      <td>1970-01-01 00:32:50</td>\n",
       "      <td>6</td>\n",
       "      <td>18.833333</td>\n",
       "    </tr>\n",
       "    <tr>\n",
       "      <th>4</th>\n",
       "      <td>Def Leppard</td>\n",
       "      <td>1970-01-01 00:33:07</td>\n",
       "      <td>6</td>\n",
       "      <td>32.000000</td>\n",
       "    </tr>\n",
       "  </tbody>\n",
       "</table>\n",
       "</div>"
      ],
      "text/plain": [
       "                         Artist        Release_Year  num_songs  avg_plays\n",
       "0             Bruce Springsteen 1970-01-01 00:32:55          6   7.666667\n",
       "1             Bruce Springsteen 1970-01-01 00:33:04          6  11.500000\n",
       "2  Creedence Clearwater Revival 1970-01-01 00:32:49          6  23.833333\n",
       "3  Creedence Clearwater Revival 1970-01-01 00:32:50          6  18.833333\n",
       "4                   Def Leppard 1970-01-01 00:33:07          6  32.000000"
      ]
     },
     "metadata": {},
     "output_type": "display_data"
    }
   ],
   "source": [
    "query='''\n",
    "SELECT Artist, Release_Year, COUNT(*) AS num_songs, AVG(PlayCount) AS avg_plays  \n",
    "    FROM rock_songs\n",
    "    GROUP BY Artist, Release_Year\n",
    "    ORDER BY num_songs desc;\n",
    "'''\n",
    "\n",
    "# Ejecutamos la petición\n",
    "observations_generator = pds.read_sql(query,\n",
    "                            con,\n",
    "                            coerce_float=True, # No afecta a nuestra base de datos porque ya están en decimal (float)\n",
    "                            parse_dates=['Release_Year'], # Utilizamos la columna 'Release_Year' para que tenga formato de fecha\n",
    "                            chunksize=5 # Cada lote de información constará de 5 elementos\n",
    "                           )\n",
    "\n",
    "# Utilizamos un ciclo for para mostrar los lotes de información\n",
    "# index será utilizado como variable iterante\n",
    "# observations será la variable que contenga nuestros data sets\n",
    "# enumarete es una palabra reservada que nos va a permitir obtener los valores iterados y su posición en la base de datos\n",
    "# Display  nos permite ver de forma más gráfica y ordenada los valores de nuestra base de datos\n",
    "for index, observations in enumerate(observations_generator):\n",
    "    if index < 5:\n",
    "        print(f'Observations index: {index}'.format(index))\n",
    "        display(observations)"
   ]
  }
 ],
 "metadata": {
  "kernelspec": {
   "display_name": "Python 3",
   "language": "python",
   "name": "python3"
  },
  "language_info": {
   "codemirror_mode": {
    "name": "ipython",
    "version": 3
   },
   "file_extension": ".py",
   "mimetype": "text/x-python",
   "name": "python",
   "nbconvert_exporter": "python",
   "pygments_lexer": "ipython3",
   "version": "3.11.1"
  },
  "orig_nbformat": 4
 },
 "nbformat": 4,
 "nbformat_minor": 2
}
